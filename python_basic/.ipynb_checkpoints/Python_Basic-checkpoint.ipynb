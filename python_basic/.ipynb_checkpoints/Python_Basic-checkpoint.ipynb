{
 "cells": [
  {
   "cell_type": "markdown",
   "metadata": {},
   "source": [
    "# Pythonの練習\n",
    "\n",
    "Pythonの練習をしてみます \n",
    "\n",
    "各セルを実行するには、セルを選択した状態で `Shift + Enter` を押します (画面上部の`Cell`プルダウンメニューからも実行できます)"
   ]
  },
  {
   "cell_type": "markdown",
   "metadata": {},
   "source": [
    "Jupyter notebookを使ってPythonの練習をしていきます。まずは下記の `print`文を実行してみます。まあprintされるわけですが。\n",
    "\n",
    "下のセル（プログラムが書いてある部分）をダブルクリックして選択し、Print文の内容を変更し（なくてもいいですが）、`Shift + Enter`を押して実行し、結果が出力されることを確認します。\n",
    "\n",
    "この演習では、このprint文を多用してPythonの練習をしていこうと思います。\n"
   ]
  },
  {
   "cell_type": "code",
   "execution_count": 6,
   "metadata": {
    "scrolled": false
   },
   "outputs": [
    {
     "name": "stdout",
     "output_type": "stream",
     "text": [
      "こんにちは\n"
     ]
    }
   ],
   "source": [
    "print(\"こんにちは\")"
   ]
  },
  {
   "cell_type": "markdown",
   "metadata": {},
   "source": [
    "***\n",
    "\n",
    "Pythonでプログラムを書くにあたり、上記のように決まった値（文字列）だけだと面白くないので、値を変化させられる「変数」を使うわけですね。ということで、Pythonの変数の練習です。\n",
    "\n",
    "### 変数の練習\n",
    "\n",
    "下のセルを選択して実行し結果を確認します。`#`で始まっている行はコメント（実行されない）ので、見にくかったら消してしまっても構いません。\n",
    "\n",
    "**練習：**　変数a, b, c, d, eに代入している値を変更して試してみます。また演算 `＋` を他の演算（引き算:`-`、掛け算：`*`、割り算:`/`、剰余算:`%`）に変化させて確認してみます"
   ]
  },
  {
   "cell_type": "code",
   "execution_count": 2,
   "metadata": {},
   "outputs": [
    {
     "name": "stdout",
     "output_type": "stream",
     "text": [
      "a =  1\n",
      "b =  2\n",
      "a + b =  3\n",
      "c =  3\n",
      "おはようございます\n"
     ]
    }
   ],
   "source": [
    "# 変数 a に1を代入します\n",
    "a = 1\n",
    "# 変数 b に2を代入します\n",
    "b = 2\n",
    "# 変数 a の値を出力します\n",
    "print(\"a = \", a)\n",
    "print(\"b = \", b)\n",
    "# 変数 a と b を加算した値を出力します\n",
    "print(\"a + b = \", a+b)\n",
    "#　変数cに a+b　を代入します\n",
    "c = a + b\n",
    "#　変数 c の値を出力します\n",
    "print(\"c = \", c)\n",
    "# 文字列の演算\n",
    "d = \"おはよう\"\n",
    "e = \"ございます\"\n",
    "print(d+e)\n"
   ]
  },
  {
   "cell_type": "markdown",
   "metadata": {},
   "source": [
    "前項の練習では、変数a, b, cには値（整数）が入っていたのに対し、変数d, eには文字列が入っていました。\n",
    "Pythonではこれらの変数が何の型（整数型：`int`、文字列型:`str`、浮動小数点数:`float`など）かを自動で判別してくれます。従来のCやJavaなどの言語では変数を準備する際に型を明示的に宣言していたのと異なります。\n",
    "\n",
    "### 変数の型変換\n",
    "\n",
    "場合によっては変数の型を変換したいケースもあるかと思います。その際は下記のように書きます\n",
    "\n",
    "下記をそのまま実行するとエラーになります。実行可能にするには、整数値bを文字列型strへ変換する必要があります。変換は`str(整数変数）`のように書きます\n",
    "\n",
    "**練習：** 文字で定義した値を数値（整数）化して加算してみましょう"
   ]
  },
  {
   "cell_type": "code",
   "execution_count": 28,
   "metadata": {
    "scrolled": true
   },
   "outputs": [
    {
     "ename": "TypeError",
     "evalue": "must be str, not int",
     "output_type": "error",
     "traceback": [
      "\u001b[0;31m---------------------------------------------------------------------------\u001b[0m",
      "\u001b[0;31mTypeError\u001b[0m                                 Traceback (most recent call last)",
      "\u001b[0;32m<ipython-input-28-a136b72caa1d>\u001b[0m in \u001b[0;36m<module>\u001b[0;34m()\u001b[0m\n\u001b[1;32m      3\u001b[0m \u001b[0mb\u001b[0m \u001b[0;34m=\u001b[0m \u001b[0;36m2017\u001b[0m\u001b[0;34m\u001b[0m\u001b[0m\n\u001b[1;32m      4\u001b[0m \u001b[0mc\u001b[0m \u001b[0;34m=\u001b[0m \u001b[0;34m\"年です\"\u001b[0m\u001b[0;34m\u001b[0m\u001b[0m\n\u001b[0;32m----> 5\u001b[0;31m \u001b[0mprint\u001b[0m\u001b[0;34m(\u001b[0m \u001b[0ma\u001b[0m \u001b[0;34m+\u001b[0m \u001b[0mb\u001b[0m \u001b[0;34m+\u001b[0m \u001b[0mc\u001b[0m \u001b[0;34m)\u001b[0m \u001b[0;31m#エラー　　文字列と整数値はそのままでは直接加算（接続）できない\u001b[0m\u001b[0;34m\u001b[0m\u001b[0m\n\u001b[0m\u001b[1;32m      6\u001b[0m \u001b[0mprint\u001b[0m\u001b[0;34m(\u001b[0m \u001b[0ma\u001b[0m \u001b[0;34m+\u001b[0m \u001b[0mstr\u001b[0m\u001b[0;34m(\u001b[0m\u001b[0mb\u001b[0m\u001b[0;34m)\u001b[0m \u001b[0;34m+\u001b[0m \u001b[0mc\u001b[0m\u001b[0;34m)\u001b[0m\u001b[0;34m\u001b[0m\u001b[0m\n",
      "\u001b[0;31mTypeError\u001b[0m: must be str, not int"
     ]
    }
   ],
   "source": [
    "# 整数→文字列の変換\n",
    "a = \"今年は\"\n",
    "b = 2017\n",
    "c = \"年です\"\n",
    "print( a + b + c ) #エラー　　文字列と整数値はそのままでは直接加算（接続）できない\n",
    "print( a + str(b) + c)"
   ]
  },
  {
   "cell_type": "markdown",
   "metadata": {},
   "source": [
    "他にも文字列を操作するいろいろな方法があります\n",
    "\n",
    "### 文字列操作の練習\n",
    "\n",
    "下記のサンプルをいろいろ変えて試してみましょう\n"
   ]
  },
  {
   "cell_type": "code",
   "execution_count": 55,
   "metadata": {},
   "outputs": [
    {
     "name": "stdout",
     "output_type": "stream",
     "text": [
      "じゅげむじゅげむごこうのすりきれじゅげむじゅげむごこうのすりきれじゅげむじゅげむごこうのすりきれじゅげむじゅげむごこうのすりきれじゅげむじゅげむごこうのすりきれ\n",
      "8文字めから11文字めまでを抜き出すと→ごこう\n",
      "この文字列の長さは16文字\n",
      "['じゅげむじゅげむ', 'こうのすりきれ']\n",
      "じゅげむじゅげむごこうはすりきれ\n"
     ]
    }
   ],
   "source": [
    "a = \"じゅげむじゅげむごこうのすりきれ\"\n",
    "print(a*5)\n",
    "print(\"8文字めから11文字めまでを抜き出すと→\" + a[8:11])\n",
    "print(\"この文字列の長さは\" + str(len(a)) + \"文字\")\n",
    "print(a.split('ご'))\n",
    "print(a.replace('の','は'))"
   ]
  },
  {
   "cell_type": "markdown",
   "metadata": {},
   "source": [
    "***\n",
    "\n",
    "Pythonには他にも値（変数・定数）をまとめて扱えるリストやタプルなどもあります\n",
    "\n",
    "### リストの練習\n",
    "\n",
    "リストでは要素を`[]`で括って定義します\n"
   ]
  },
  {
   "cell_type": "code",
   "execution_count": 61,
   "metadata": {},
   "outputs": [
    {
     "name": "stdout",
     "output_type": "stream",
     "text": [
      "['Sunday', 'Monday', 'Tuesday', 'Wednesday', 'Thursday', 'Friday', 'Saturaday']\n",
      "Wednesday\n",
      "['Sunday', 'Monday', 'Tuesday', 'Wednesday', 'Thursday', 'やった金曜だ！', 'Saturaday']\n",
      "一週間は7日あります\n"
     ]
    }
   ],
   "source": [
    "a = [\"Sunday\", \"Monday\", \"Tuesday\", \"Wednesday\", \"Thursday\", \"Friday\", \"Saturaday\"]\n",
    "print(a)\n",
    "print(a[3])\n",
    "a[5] = \"やった金曜だ！\"\n",
    "print(a)\n",
    "print(\"一週間は\" + str(len(a)) + \"日あります\")"
   ]
  },
  {
   "cell_type": "markdown",
   "metadata": {},
   "source": [
    "### タプルの練習\n",
    "\n",
    "タプルでは要素を`()`で括って定義します\n",
    "\n",
    "リストと異なり、タプルでは内容の変更はできません"
   ]
  },
  {
   "cell_type": "code",
   "execution_count": 65,
   "metadata": {},
   "outputs": [
    {
     "name": "stdout",
     "output_type": "stream",
     "text": [
      "('Sunday', 'Monday', 'Tuesday', 'Wednesday', 'Thursday', 'Friday', 'Saturaday')\n",
      "Wednesday\n",
      "('Sunday', 'Monday', 'Tuesday', 'Wednesday', 'Thursday', 'Friday', 'Saturaday')\n"
     ]
    }
   ],
   "source": [
    "a = (\"Sunday\", \"Monday\", \"Tuesday\", \"Wednesday\", \"Thursday\", \"Friday\", \"Saturaday\")\n",
    "print(a)\n",
    "print(a[3])\n",
    "# a[5] = \"やった金曜だ！\"\n",
    "print(a)"
   ]
  },
  {
   "cell_type": "markdown",
   "metadata": {},
   "source": [
    "### ディクショナリ（辞書）の練習\n",
    "\n",
    "前項までのリストやタプルでは、含まれる要素をはその順序（位置）を指定して扱われていました。\n",
    "\n",
    "ディクショナリ（辞書）では要素は順序では扱われず、キー値と組み合わせて扱います\n",
    "\n",
    "ディクショナリ（辞書）は{}でキー値と組み合わせて定義します\n"
   ]
  },
  {
   "cell_type": "code",
   "execution_count": 93,
   "metadata": {},
   "outputs": [
    {
     "name": "stdout",
     "output_type": "stream",
     "text": [
      "りんごの価格は200円です\n",
      "りんごは英語でappleといいます\n"
     ]
    }
   ],
   "source": [
    "a = {}\n",
    "a = {\"りんご\":200, \"cabbage\": 300}\n",
    "print(\"りんごの価格は\" + str(a[\"りんご\"]) + \"円です\")\n",
    "a[\"りんご\"] = \"apple\"\n",
    "print(\"りんごは英語で\" + str(a[\"りんご\"]) + \"といいます\")"
   ]
  },
  {
   "cell_type": "markdown",
   "metadata": {
    "collapsed": true
   },
   "source": [
    "***\n",
    "\n",
    "### 条件分岐の練習\n",
    "\n",
    "プログラムを書くために、条件での分岐を練習します\n",
    "\n",
    "**練習1：**　aとｂの値を変えて練習してみましょう。\n",
    "\n",
    "**練習２：**　等しくない（a != b） の場合の条件分岐で練習してみましょう。\n",
    "\n",
    "**練習３：**　左辺が大きい（a > b） の場合の条件分岐で練習してみましょう。"
   ]
  },
  {
   "cell_type": "code",
   "execution_count": 13,
   "metadata": {},
   "outputs": [
    {
     "name": "stdout",
     "output_type": "stream",
     "text": [
      "False\n"
     ]
    }
   ],
   "source": [
    "a = 1\n",
    "b = 2\n",
    "# 「==」　で両辺の値が等しいかを確認します\n",
    "if a == b:\n",
    "    # 等しければ  「True（真）」を出力します\n",
    "    print(True)\n",
    "else:\n",
    "    # 等しくなければ  「False（偽）」を出力します\n",
    "    print(False)\n",
    "# 上記を実行後、 「」に代入する値を1に変更して再度実行（Shift+Enter）し出力を確認してみます"
   ]
  },
  {
   "cell_type": "markdown",
   "metadata": {
    "collapsed": true
   },
   "source": [
    "### ループの練習\n",
    "\n",
    "練習１： 値の範囲を変えて練習してみましょう\n",
    "\n",
    "練習２：出力する値を加算結果や乗算結果など他のものに変えて確認してみましょう"
   ]
  },
  {
   "cell_type": "code",
   "execution_count": 46,
   "metadata": {},
   "outputs": [
    {
     "name": "stdout",
     "output_type": "stream",
     "text": [
      "0\n",
      "0\n",
      "\n",
      "1\n",
      "1\n",
      "\n",
      "2\n",
      "4\n",
      "\n",
      "3\n",
      "9\n",
      "\n",
      "4\n",
      "16\n",
      "\n",
      "5\n",
      "25\n",
      "\n",
      "6\n",
      "36\n",
      "\n",
      "7\n",
      "49\n",
      "\n",
      "8\n",
      "64\n",
      "\n",
      "9\n",
      "81\n",
      "\n"
     ]
    }
   ],
   "source": [
    "# 「i」はループのカウンターとして１０まで変化します\n",
    "for i in range(10):\n",
    "    # iの値を出力します\n",
    "    print(i)\n",
    "    # iを二乗した値を出力します\n",
    "    print(i**2)\n",
    "    # 一行空けます\n",
    "    print()"
   ]
  },
  {
   "cell_type": "markdown",
   "metadata": {
    "collapsed": true
   },
   "source": [
    "### 配列を使ったループの練習\n",
    "\n",
    "練習１：曜日を月に変えて１２ヶ月をループさせて出力してみましょう。\n",
    "\n",
    "練習２：出力結果を日や曜日以外にも追加して確認してみましょう"
   ]
  },
  {
   "cell_type": "code",
   "execution_count": 3,
   "metadata": {},
   "outputs": [
    {
     "name": "stdout",
     "output_type": "stream",
     "text": [
      "Sunday\n",
      "Monday\n",
      "Tuesday\n",
      "Wednesday\n",
      "Thursday\n",
      "Friday\n",
      "Saturday\n"
     ]
    }
   ],
   "source": [
    "# 配列を使って、複数の項目を[]で囲い「,」で区切って扱います\n",
    "week = ['Sunday', 'Monday', 'Tuesday', 'Wednesday', 'Thursday', 'Friday', 'Saturday']\n",
    "# 配列weekの各要素を順に変数「day」に代入していきます\n",
    "for day in week:\n",
    "    # dayの値を出力します\n",
    "    print(day)"
   ]
  },
  {
   "cell_type": "markdown",
   "metadata": {
    "collapsed": true
   },
   "source": [
    "***\n",
    "\n",
    "### ファイルの読み書き\n",
    "\n",
    "下記を実行するとこのJupyter notebookを実行しているディレクトリに`write.txt`というファイルが作成されている（はず）です。\n"
   ]
  },
  {
   "cell_type": "code",
   "execution_count": 2,
   "metadata": {},
   "outputs": [],
   "source": [
    "f = open('file.txt', 'w')\n",
    "f.write('Pythonでファイルに書き込みました！')\n",
    "f.close()"
   ]
  },
  {
   "cell_type": "code",
   "execution_count": 5,
   "metadata": {},
   "outputs": [
    {
     "ename": "SyntaxError",
     "evalue": "Missing parentheses in call to 'print' (<ipython-input-5-296025e075a8>, line 3)",
     "output_type": "error",
     "traceback": [
      "\u001b[0;36m  File \u001b[0;32m\"<ipython-input-5-296025e075a8>\"\u001b[0;36m, line \u001b[0;32m3\u001b[0m\n\u001b[0;31m    print row\u001b[0m\n\u001b[0m            ^\u001b[0m\n\u001b[0;31mSyntaxError\u001b[0m\u001b[0;31m:\u001b[0m Missing parentheses in call to 'print'\n"
     ]
    }
   ],
   "source": [
    "f = open('file.txt', 'r')\n",
    "for row in f:\n",
    "    print row\n",
    "f.close()"
   ]
  },
  {
   "cell_type": "code",
   "execution_count": null,
   "metadata": {},
   "outputs": [],
   "source": []
  }
 ],
 "metadata": {
  "kernelspec": {
   "display_name": "Python 3",
   "language": "python",
   "name": "python3"
  },
  "language_info": {
   "codemirror_mode": {
    "name": "ipython",
    "version": 3
   },
   "file_extension": ".py",
   "mimetype": "text/x-python",
   "name": "python",
   "nbconvert_exporter": "python",
   "pygments_lexer": "ipython3",
   "version": "3.6.2"
  }
 },
 "nbformat": 4,
 "nbformat_minor": 2
}
